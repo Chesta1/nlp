{
 "cells": [
  {
   "cell_type": "markdown",
   "metadata": {},
   "source": [
    "# Text Generation using LSTMs on the articles dataset"
   ]
  },
  {
   "cell_type": "code",
   "execution_count": 40,
   "metadata": {},
   "outputs": [],
   "source": [
    "import pandas as pd\n",
    "from nltk.tokenize import word_tokenize\n",
    "from nltk.corpus import stopwords\n",
    "from nltk.stem import WordNetLemmatizer\n",
    "import re\n",
    "from tensorflow.keras.preprocessing.text import Tokenizer\n",
    "from tensorflow.keras.preprocessing.sequence import pad_sequences\n",
    "import tensorflow as tf\n",
    "from tensorflow.keras.layers import Embedding, GRU, Dense, LSTM, Dropout\n",
    "from tensorflow.keras.models import Sequential\n",
    "from tensorflow.keras.utils import set_random_seed\n",
    "from numpy.random import seed\n",
    "set_random_seed(2)\n",
    "seed(1)\n",
    "import os,string\n",
    "import warnings\n",
    "warnings.filterwarnings(\"ignore\")\n",
    "import numpy as np "
   ]
  },
  {
   "cell_type": "code",
   "execution_count": 4,
   "metadata": {},
   "outputs": [
    {
     "data": {
      "text/html": [
       "<div>\n",
       "<style scoped>\n",
       "    .dataframe tbody tr th:only-of-type {\n",
       "        vertical-align: middle;\n",
       "    }\n",
       "\n",
       "    .dataframe tbody tr th {\n",
       "        vertical-align: top;\n",
       "    }\n",
       "\n",
       "    .dataframe thead th {\n",
       "        text-align: right;\n",
       "    }\n",
       "</style>\n",
       "<table border=\"1\" class=\"dataframe\">\n",
       "  <thead>\n",
       "    <tr style=\"text-align: right;\">\n",
       "      <th></th>\n",
       "      <th>Unnamed: 0</th>\n",
       "      <th>title</th>\n",
       "      <th>date</th>\n",
       "      <th>SubTitle</th>\n",
       "      <th>site</th>\n",
       "      <th>dominant_topic</th>\n",
       "      <th>topic_labels</th>\n",
       "      <th>cluster</th>\n",
       "    </tr>\n",
       "  </thead>\n",
       "  <tbody>\n",
       "    <tr>\n",
       "      <th>0</th>\n",
       "      <td>0</td>\n",
       "      <td>mitigating ethical risks in generative ai stra...</td>\n",
       "      <td>2024-01-03 00:00:00.000</td>\n",
       "      <td>artificial intelligence ai has been around for...</td>\n",
       "      <td>DSC</td>\n",
       "      <td>6</td>\n",
       "      <td>AI and Models</td>\n",
       "      <td>4</td>\n",
       "    </tr>\n",
       "    <tr>\n",
       "      <th>1</th>\n",
       "      <td>1</td>\n",
       "      <td>dsc weekly january</td>\n",
       "      <td>2024-01-02 00:00:00.000</td>\n",
       "      <td>announcements top stories in depth</td>\n",
       "      <td>DSC</td>\n",
       "      <td>7</td>\n",
       "      <td>Comprehensive Guide</td>\n",
       "      <td>6</td>\n",
       "    </tr>\n",
       "    <tr>\n",
       "      <th>2</th>\n",
       "      <td>2</td>\n",
       "      <td>mastering iot data management for business suc...</td>\n",
       "      <td>2024-01-01 00:00:00.000</td>\n",
       "      <td>in today s tech driven landscape the prolifera...</td>\n",
       "      <td>DSC</td>\n",
       "      <td>6</td>\n",
       "      <td>AI and Models</td>\n",
       "      <td>4</td>\n",
       "    </tr>\n",
       "    <tr>\n",
       "      <th>3</th>\n",
       "      <td>3</td>\n",
       "      <td>generative ai business model disruption the ny...</td>\n",
       "      <td>2024-01-01 00:00:00.000</td>\n",
       "      <td>will be all about changing business models due...</td>\n",
       "      <td>DSC</td>\n",
       "      <td>6</td>\n",
       "      <td>AI and Models</td>\n",
       "      <td>4</td>\n",
       "    </tr>\n",
       "    <tr>\n",
       "      <th>4</th>\n",
       "      <td>4</td>\n",
       "      <td>genai synthesizing dna sequences with llm tech...</td>\n",
       "      <td>2024-01-01 00:00:00.000</td>\n",
       "      <td>when people talk about large language models t...</td>\n",
       "      <td>DSC</td>\n",
       "      <td>8</td>\n",
       "      <td>Coding and Implementation</td>\n",
       "      <td>0</td>\n",
       "    </tr>\n",
       "  </tbody>\n",
       "</table>\n",
       "</div>"
      ],
      "text/plain": [
       "   Unnamed: 0  ... cluster\n",
       "0           0  ...       4\n",
       "1           1  ...       6\n",
       "2           2  ...       4\n",
       "3           3  ...       4\n",
       "4           4  ...       0\n",
       "\n",
       "[5 rows x 8 columns]"
      ]
     },
     "execution_count": 4,
     "metadata": {},
     "output_type": "execute_result"
    }
   ],
   "source": [
    "# load the data \n",
    "data = pd.read_csv(\"data_with_labels.csv\")\n",
    "data.head()"
   ]
  },
  {
   "cell_type": "code",
   "execution_count": 5,
   "metadata": {},
   "outputs": [
    {
     "data": {
      "text/html": [
       "<div>\n",
       "<style scoped>\n",
       "    .dataframe tbody tr th:only-of-type {\n",
       "        vertical-align: middle;\n",
       "    }\n",
       "\n",
       "    .dataframe tbody tr th {\n",
       "        vertical-align: top;\n",
       "    }\n",
       "\n",
       "    .dataframe thead th {\n",
       "        text-align: right;\n",
       "    }\n",
       "</style>\n",
       "<table border=\"1\" class=\"dataframe\">\n",
       "  <thead>\n",
       "    <tr style=\"text-align: right;\">\n",
       "      <th></th>\n",
       "      <th>Unnamed: 0</th>\n",
       "      <th>title</th>\n",
       "      <th>date</th>\n",
       "      <th>SubTitle</th>\n",
       "      <th>site</th>\n",
       "      <th>dominant_topic</th>\n",
       "      <th>topic_labels</th>\n",
       "      <th>cluster</th>\n",
       "      <th>text</th>\n",
       "    </tr>\n",
       "  </thead>\n",
       "  <tbody>\n",
       "    <tr>\n",
       "      <th>0</th>\n",
       "      <td>0</td>\n",
       "      <td>mitigating ethical risks in generative ai stra...</td>\n",
       "      <td>2024-01-03 00:00:00.000</td>\n",
       "      <td>artificial intelligence ai has been around for...</td>\n",
       "      <td>DSC</td>\n",
       "      <td>6</td>\n",
       "      <td>AI and Models</td>\n",
       "      <td>4</td>\n",
       "      <td>mitigating ethical risks in generative ai stra...</td>\n",
       "    </tr>\n",
       "    <tr>\n",
       "      <th>1</th>\n",
       "      <td>1</td>\n",
       "      <td>dsc weekly january</td>\n",
       "      <td>2024-01-02 00:00:00.000</td>\n",
       "      <td>announcements top stories in depth</td>\n",
       "      <td>DSC</td>\n",
       "      <td>7</td>\n",
       "      <td>Comprehensive Guide</td>\n",
       "      <td>6</td>\n",
       "      <td>dsc weekly januaryannouncements top stories in...</td>\n",
       "    </tr>\n",
       "    <tr>\n",
       "      <th>2</th>\n",
       "      <td>2</td>\n",
       "      <td>mastering iot data management for business suc...</td>\n",
       "      <td>2024-01-01 00:00:00.000</td>\n",
       "      <td>in today s tech driven landscape the prolifera...</td>\n",
       "      <td>DSC</td>\n",
       "      <td>6</td>\n",
       "      <td>AI and Models</td>\n",
       "      <td>4</td>\n",
       "      <td>mastering iot data management for business suc...</td>\n",
       "    </tr>\n",
       "    <tr>\n",
       "      <th>3</th>\n",
       "      <td>3</td>\n",
       "      <td>generative ai business model disruption the ny...</td>\n",
       "      <td>2024-01-01 00:00:00.000</td>\n",
       "      <td>will be all about changing business models due...</td>\n",
       "      <td>DSC</td>\n",
       "      <td>6</td>\n",
       "      <td>AI and Models</td>\n",
       "      <td>4</td>\n",
       "      <td>generative ai business model disruption the ny...</td>\n",
       "    </tr>\n",
       "    <tr>\n",
       "      <th>4</th>\n",
       "      <td>4</td>\n",
       "      <td>genai synthesizing dna sequences with llm tech...</td>\n",
       "      <td>2024-01-01 00:00:00.000</td>\n",
       "      <td>when people talk about large language models t...</td>\n",
       "      <td>DSC</td>\n",
       "      <td>8</td>\n",
       "      <td>Coding and Implementation</td>\n",
       "      <td>0</td>\n",
       "      <td>genai synthesizing dna sequences with llm tech...</td>\n",
       "    </tr>\n",
       "  </tbody>\n",
       "</table>\n",
       "</div>"
      ],
      "text/plain": [
       "   Unnamed: 0  ...                                               text\n",
       "0           0  ...  mitigating ethical risks in generative ai stra...\n",
       "1           1  ...  dsc weekly januaryannouncements top stories in...\n",
       "2           2  ...  mastering iot data management for business suc...\n",
       "3           3  ...  generative ai business model disruption the ny...\n",
       "4           4  ...  genai synthesizing dna sequences with llm tech...\n",
       "\n",
       "[5 rows x 9 columns]"
      ]
     },
     "execution_count": 5,
     "metadata": {},
     "output_type": "execute_result"
    }
   ],
   "source": [
    "data['text'] = data['title']+data['SubTitle']\n",
    "data.head()"
   ]
  },
  {
   "cell_type": "code",
   "execution_count": 8,
   "metadata": {},
   "outputs": [],
   "source": [
    "STOPWORDS = set(stopwords.words('english'))"
   ]
  },
  {
   "cell_type": "code",
   "execution_count": 9,
   "metadata": {},
   "outputs": [],
   "source": [
    "# data prep\n",
    "def simple_clean_text(x):\n",
    "    x = x.lower()\n",
    "    x = re.sub('[^a-z]',\" \",x)\n",
    "    x = re.sub(' +',' ',x).strip()\n",
    "    words = x.split()\n",
    "    \n",
    "    lemmatizer = WordNetLemmatizer()\n",
    "    words =[lemmatizer.lemmatize(i) for i in words]\n",
    "\n",
    "    words = [w for w in words if w not in STOPWORDS]\n",
    "        \n",
    "        \n",
    "    return \" \".join(words)"
   ]
  },
  {
   "cell_type": "code",
   "execution_count": 10,
   "metadata": {},
   "outputs": [
    {
     "data": {
      "text/plain": [
       "0    mitigating ethical risk generative ai strategy...\n",
       "1      dsc weekly januaryannouncements top story depth\n",
       "2    mastering iot data management business success...\n",
       "3    generative ai business model disruption nyt la...\n",
       "4    genai synthesizing dna sequence llm techniques...\n",
       "Name: text, dtype: object"
      ]
     },
     "execution_count": 10,
     "metadata": {},
     "output_type": "execute_result"
    }
   ],
   "source": [
    "data['text'] = data['text'].apply(lambda x:simple_clean_text(x))\n",
    "data.text.head()"
   ]
  },
  {
   "cell_type": "code",
   "execution_count": 11,
   "metadata": {},
   "outputs": [
    {
     "data": {
      "text/plain": [
       "['mitigating ethical risk generative ai strategy safe secure ai applicationartificial intelligence ai ha around many decade ha become buzzword even among non technical people generative ai read',\n",
       " 'dsc weekly januaryannouncements top story depth',\n",
       " 'mastering iot data management business successin today tech driven landscape proliferation internet thing iot device ha revolutionized business collect utilize data interconnectivity device read',\n",
       " 'generative ai business model disruption nyt lawsuit posturingwill changing business model due massive disruption generative ai new winner many loser read',\n",
       " 'genai synthesizing dna sequence llm techniqueswhen people talk large language model common topic text summarization text generation answering prompt gpt yet read',\n",
       " 'genai beware productivity trap economics partit technology advancement game changer game changer technological advancement leveraged economically transform industry society read',\n",
       " 'best kept secret llmsgpt great tool write summarize article chatbot one popular us find read',\n",
       " 'data monetization cue chief data monetization officerdata monetization data monetization data monetization note blog wa originally posted december given recent excitement thought read',\n",
       " 'creating fair prosperous brave new world ai summaryas completed blog series european union eu announced ai regulation law european union ai regulation act seek ensure ai read',\n",
       " 'eight technique powering chatgpt contentchatgpt ha established true powerhouse broad range application though several technique use make read']"
      ]
     },
     "execution_count": 11,
     "metadata": {},
     "output_type": "execute_result"
    }
   ],
   "source": [
    "corpus = [x for x in data.text]\n",
    "corpus[:10]"
   ]
  },
  {
   "cell_type": "code",
   "execution_count": 28,
   "metadata": {},
   "outputs": [],
   "source": [
    "tokenizer = Tokenizer()\n",
    "\n",
    "def get_the_seq(corpus):\n",
    "    tokenizer.fit_on_texts(corpus)\n",
    "    total_words = len(tokenizer.word_index)+1\n",
    "\n",
    "    input_seq=[]\n",
    "\n",
    "    for line in corpus:\n",
    "        token_list = tokenizer.texts_to_sequences([line])[0]\n",
    "        for i in range(1,len(token_list)):\n",
    "            n_gram_sequence = token_list[:i+1]\n",
    "            input_seq.append(n_gram_sequence)\n",
    "    \n",
    "    return input_seq, total_words"
   ]
  },
  {
   "cell_type": "code",
   "execution_count": 29,
   "metadata": {},
   "outputs": [],
   "source": [
    "input_sequences, total_words = get_the_seq(corpus)"
   ]
  },
  {
   "cell_type": "code",
   "execution_count": 30,
   "metadata": {},
   "outputs": [
    {
     "data": {
      "text/plain": [
       "[[738, 739],\n",
       " [738, 739, 740],\n",
       " [738, 739, 740, 24],\n",
       " [738, 739, 740, 24, 2],\n",
       " [738, 739, 740, 24, 2, 38],\n",
       " [738, 739, 740, 24, 2, 38, 741],\n",
       " [738, 739, 740, 24, 2, 38, 741, 274],\n",
       " [738, 739, 740, 24, 2, 38, 741, 274, 2],\n",
       " [738, 739, 740, 24, 2, 38, 741, 274, 2, 742],\n",
       " [738, 739, 740, 24, 2, 38, 741, 274, 2, 742, 73]]"
      ]
     },
     "execution_count": 30,
     "metadata": {},
     "output_type": "execute_result"
    }
   ],
   "source": [
    "input_sequences[:10]"
   ]
  },
  {
   "cell_type": "code",
   "execution_count": 33,
   "metadata": {},
   "outputs": [],
   "source": [
    "import tensorflow.keras.utils as ku"
   ]
  },
  {
   "cell_type": "code",
   "execution_count": 34,
   "metadata": {},
   "outputs": [],
   "source": [
    "def generated_padded_sequence(input_sequences):\n",
    "    max_sequences_len = max([len(x) for x in input_sequences])\n",
    "\n",
    "    input_sequences = np.array(pad_sequences(input_sequences,maxlen=max_sequences_len,padding='pre'))\n",
    "\n",
    "    predictors, label = input_sequences[:,:-1],input_sequences[:,-1]\n",
    "    label = ku.to_categorical(label,num_classes=total_words)\n",
    "    return predictors, label, max_sequences_len"
   ]
  },
  {
   "cell_type": "code",
   "execution_count": 35,
   "metadata": {},
   "outputs": [],
   "source": [
    "predictors,label,max_seq_len = generated_padded_sequence(input_sequences)"
   ]
  },
  {
   "cell_type": "code",
   "execution_count": 39,
   "metadata": {},
   "outputs": [
    {
     "name": "stdout",
     "output_type": "stream",
     "text": [
      "27\n"
     ]
    }
   ],
   "source": [
    "print(max_seq_len)"
   ]
  },
  {
   "cell_type": "code",
   "execution_count": 41,
   "metadata": {},
   "outputs": [
    {
     "name": "stdout",
     "output_type": "stream",
     "text": [
      "Model: \"sequential\"\n",
      "_________________________________________________________________\n",
      " Layer (type)                Output Shape              Param #   \n",
      "=================================================================\n",
      " embedding (Embedding)       (None, 26, 10)            22790     \n",
      "                                                                 \n",
      " lstm (LSTM)                 (None, 100)               44400     \n",
      "                                                                 \n",
      " dropout (Dropout)           (None, 100)               0         \n",
      "                                                                 \n",
      " dense (Dense)               (None, 2279)              230179    \n",
      "                                                                 \n",
      "=================================================================\n",
      "Total params: 297369 (1.13 MB)\n",
      "Trainable params: 297369 (1.13 MB)\n",
      "Non-trainable params: 0 (0.00 Byte)\n",
      "_________________________________________________________________\n"
     ]
    }
   ],
   "source": [
    "def create_model(max_sequence_len, total_words):\n",
    "    input_len = max_sequence_len - 1\n",
    "    model = Sequential()\n",
    "    \n",
    "    # Add Input Embedding Layer\n",
    "    model.add(Embedding(total_words, 10, input_length=input_len))\n",
    "    \n",
    "    # Add Hidden Layer 1 - LSTM Layer\n",
    "    model.add(LSTM(100))\n",
    "    model.add(Dropout(0.1))\n",
    "    \n",
    "    # Add Output Layer\n",
    "    model.add(Dense(total_words, activation='softmax'))\n",
    "\n",
    "    model.compile(loss='categorical_crossentropy', optimizer='adam')\n",
    "    \n",
    "    return model\n",
    "\n",
    "model = create_model(max_seq_len, total_words)\n",
    "model.summary()"
   ]
  },
  {
   "cell_type": "code",
   "execution_count": 42,
   "metadata": {},
   "outputs": [
    {
     "name": "stdout",
     "output_type": "stream",
     "text": [
      "Epoch 1/100\n",
      "Epoch 2/100\n",
      "Epoch 3/100\n",
      "Epoch 4/100\n",
      "Epoch 5/100\n",
      "Epoch 6/100\n",
      "Epoch 7/100\n",
      "Epoch 8/100\n",
      "Epoch 9/100\n",
      "Epoch 10/100\n",
      "Epoch 11/100\n",
      "Epoch 12/100\n",
      "Epoch 13/100\n",
      "Epoch 14/100\n",
      "Epoch 15/100\n",
      "Epoch 16/100\n",
      "Epoch 17/100\n",
      "Epoch 18/100\n",
      "Epoch 19/100\n",
      "Epoch 20/100\n",
      "Epoch 21/100\n",
      "Epoch 22/100\n",
      "Epoch 23/100\n",
      "Epoch 24/100\n",
      "Epoch 25/100\n",
      "Epoch 26/100\n",
      "Epoch 27/100\n",
      "Epoch 28/100\n",
      "Epoch 29/100\n",
      "Epoch 30/100\n",
      "Epoch 31/100\n",
      "Epoch 32/100\n",
      "Epoch 33/100\n",
      "Epoch 34/100\n",
      "Epoch 35/100\n",
      "Epoch 36/100\n",
      "Epoch 37/100\n",
      "Epoch 38/100\n",
      "Epoch 39/100\n",
      "Epoch 40/100\n",
      "Epoch 41/100\n",
      "Epoch 42/100\n",
      "Epoch 43/100\n",
      "Epoch 44/100\n",
      "Epoch 45/100\n",
      "Epoch 46/100\n",
      "Epoch 47/100\n",
      "Epoch 48/100\n",
      "Epoch 49/100\n",
      "Epoch 50/100\n",
      "Epoch 51/100\n",
      "Epoch 52/100\n",
      "Epoch 53/100\n",
      "Epoch 54/100\n",
      "Epoch 55/100\n",
      "Epoch 56/100\n",
      "Epoch 57/100\n",
      "Epoch 58/100\n",
      "Epoch 59/100\n",
      "Epoch 60/100\n",
      "Epoch 61/100\n",
      "Epoch 62/100\n",
      "Epoch 63/100\n",
      "Epoch 64/100\n",
      "Epoch 65/100\n",
      "Epoch 66/100\n",
      "Epoch 67/100\n",
      "Epoch 68/100\n",
      "Epoch 69/100\n",
      "Epoch 70/100\n",
      "Epoch 71/100\n",
      "Epoch 72/100\n",
      "Epoch 73/100\n",
      "Epoch 74/100\n",
      "Epoch 75/100\n",
      "Epoch 76/100\n",
      "Epoch 77/100\n",
      "Epoch 78/100\n",
      "Epoch 79/100\n",
      "Epoch 80/100\n",
      "Epoch 81/100\n",
      "Epoch 82/100\n",
      "Epoch 83/100\n",
      "Epoch 84/100\n",
      "Epoch 85/100\n",
      "Epoch 86/100\n",
      "Epoch 87/100\n",
      "Epoch 88/100\n",
      "Epoch 89/100\n",
      "Epoch 90/100\n",
      "Epoch 91/100\n",
      "Epoch 92/100\n",
      "Epoch 93/100\n",
      "Epoch 94/100\n",
      "Epoch 95/100\n",
      "Epoch 96/100\n",
      "Epoch 97/100\n",
      "Epoch 98/100\n",
      "Epoch 99/100\n",
      "Epoch 100/100\n"
     ]
    },
    {
     "data": {
      "text/plain": [
       "<keras.src.callbacks.History at 0x1ceeb95d460>"
      ]
     },
     "execution_count": 42,
     "metadata": {},
     "output_type": "execute_result"
    }
   ],
   "source": [
    "model.fit(predictors, label, epochs=100, verbose=5)"
   ]
  },
  {
   "cell_type": "code",
   "execution_count": 51,
   "metadata": {},
   "outputs": [],
   "source": [
    "def generate_text(seed_text, next_words, model, max_sequence_len):\n",
    "    for _ in range(next_words):\n",
    "        token_list = tokenizer.texts_to_sequences([seed_text])[0]\n",
    "        token_list = pad_sequences([token_list], maxlen=max_sequence_len-1, padding='pre')\n",
    "        predicted = model.predict(token_list, verbose=0)\n",
    "        print(predicted)\n",
    "        predicted_class = np.argmax(predicted,axis=1)\n",
    "        \n",
    "        output_word = \"\"\n",
    "        for word,index in tokenizer.word_index.items():\n",
    "            if index == predicted_class:\n",
    "                output_word = word\n",
    "                break\n",
    "        seed_text += \" \"+output_word\n",
    "    return seed_text.title()"
   ]
  },
  {
   "cell_type": "code",
   "execution_count": 54,
   "metadata": {},
   "outputs": [
    {
     "name": "stdout",
     "output_type": "stream",
     "text": [
      "[[7.1145201e-10 2.9996701e-05 5.7553199e-05 ... 1.2663775e-04\n",
      "  1.4239479e-08 4.3614312e-09]]\n",
      "[[3.2745223e-10 8.7946793e-03 2.7717939e-02 ... 1.0498176e-09\n",
      "  4.3125264e-11 1.1307131e-09]]\n",
      "[[3.5288672e-10 1.5929488e-02 1.4645747e-02 ... 6.0002718e-11\n",
      "  2.9633191e-09 2.7785980e-09]]\n",
      "[[1.0726179e-09 8.9120970e-04 3.9054780e-06 ... 7.4162747e-09\n",
      "  6.2736788e-08 2.6878329e-08]]\n",
      "[[2.07726805e-11 1.50682395e-02 2.92730797e-03 ... 1.71197916e-15\n",
      "  3.89748184e-13 4.60030104e-12]]\n",
      "Ai And Llm Diffusion Scratch Using Pythondeveloping Learning\n"
     ]
    }
   ],
   "source": [
    "print (generate_text(\"AI and LLM\", 5, model, max_seq_len))"
   ]
  },
  {
   "cell_type": "markdown",
   "metadata": {},
   "source": []
  }
 ],
 "metadata": {
  "kernelspec": {
   "display_name": "nlp_clust_env",
   "language": "python",
   "name": "python3"
  },
  "language_info": {
   "codemirror_mode": {
    "name": "ipython",
    "version": 3
   },
   "file_extension": ".py",
   "mimetype": "text/x-python",
   "name": "python",
   "nbconvert_exporter": "python",
   "pygments_lexer": "ipython3",
   "version": "3.8.18"
  }
 },
 "nbformat": 4,
 "nbformat_minor": 2
}
